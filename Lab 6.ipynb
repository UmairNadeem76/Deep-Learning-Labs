{
 "cells": [
  {
   "cell_type": "markdown",
   "id": "4842f46f-717a-4465-93c1-4e839b0a8844",
   "metadata": {},
   "source": [
    "## LAB NO : 6"
   ]
  },
  {
   "cell_type": "markdown",
   "id": "c26f01ba-d80f-405e-8f69-800f7182ee0a",
   "metadata": {},
   "source": [
    "### LAB CODE :"
   ]
  },
  {
   "cell_type": "code",
   "execution_count": 1,
   "id": "9c891332-c890-4c72-b1f6-7e9c08f1e1a5",
   "metadata": {},
   "outputs": [
    {
     "name": "stderr",
     "output_type": "stream",
     "text": [
      "C:\\Users\\MUHAM\\anaconda3\\Lib\\site-packages\\keras\\src\\layers\\core\\dense.py:85: UserWarning: Do not pass an `input_shape`/`input_dim` argument to a layer. When using Sequential models, prefer using an `Input(shape)` object as the first layer in the model instead.\n",
      "  super().__init__(activity_regularizer=activity_regularizer, **kwargs)\n"
     ]
    },
    {
     "name": "stdout",
     "output_type": "stream",
     "text": [
      "\u001b[1m4/4\u001b[0m \u001b[32m━━━━━━━━━━━━━━━━━━━━\u001b[0m\u001b[37m\u001b[0m \u001b[1m0s\u001b[0m 2ms/step - loss: 32.4055 \n",
      "Mean Squared Error on Test Data: 41.03199768066406\n"
     ]
    }
   ],
   "source": [
    "from tensorflow.keras.models import Sequential\n",
    "from tensorflow.keras.layers import Dense\n",
    "from tensorflow.keras.datasets import boston_housing\n",
    "from sklearn.model_selection import train_test_split\n",
    "from sklearn.preprocessing import StandardScaler\n",
    "\n",
    "(X_train, y_train), (X_test, y_test) = boston_housing.load_data()\n",
    "scaler = StandardScaler()\n",
    "X_train_scaled = scaler.fit_transform(X_train)\n",
    "X_test_scaled = scaler.transform(X_test)\n",
    "model = Sequential()\n",
    "model.add(Dense(10, activation='relu', input_shape=(X_train_scaled.shape[1],)))\n",
    "model.add(Dense(1))\n",
    "model.compile(optimizer='adam', loss='mean_squared_error')\n",
    "model.fit(X_train_scaled, y_train, epochs=100, batch_size=32, verbose=0)\n",
    "# Evaluate the model on the test data\n",
    "loss = model.evaluate(X_test_scaled, y_test)\n",
    "print(\"Mean Squared Error on Test Data:\", loss)"
   ]
  },
  {
   "cell_type": "markdown",
   "id": "fbecbcc4-cbde-4f31-9cf9-fe4dcccb93fb",
   "metadata": {},
   "source": [
    "#### LAB TASK : 1\n",
    "<strong>Increase or decrease number of neurons in hidden layers.</strong>"
   ]
  },
  {
   "cell_type": "code",
   "execution_count": 28,
   "id": "433f8bef-5876-4fae-8db8-f80d3123cabe",
   "metadata": {},
   "outputs": [
    {
     "name": "stderr",
     "output_type": "stream",
     "text": [
      "C:\\Users\\MUHAM\\anaconda3\\Lib\\site-packages\\keras\\src\\layers\\core\\dense.py:85: UserWarning: Do not pass an `input_shape`/`input_dim` argument to a layer. When using Sequential models, prefer using an `Input(shape)` object as the first layer in the model instead.\n",
      "  super().__init__(activity_regularizer=activity_regularizer, **kwargs)\n"
     ]
    },
    {
     "name": "stdout",
     "output_type": "stream",
     "text": [
      "\u001b[1m4/4\u001b[0m \u001b[32m━━━━━━━━━━━━━━━━━━━━\u001b[0m\u001b[37m\u001b[0m \u001b[1m0s\u001b[0m 2ms/step - loss: 23.7203  \n",
      "Mean Squared Error on Test Data: 36.204307556152344\n"
     ]
    }
   ],
   "source": [
    "from tensorflow.keras.models import Sequential\n",
    "from tensorflow.keras.layers import Dense\n",
    "from tensorflow.keras.datasets import boston_housing\n",
    "from sklearn.model_selection import train_test_split\n",
    "from sklearn.preprocessing import StandardScaler\n",
    "\n",
    "(X_train, y_train), (X_test, y_test) = boston_housing.load_data()\n",
    "scaler = StandardScaler()\n",
    "X_train_scaled = scaler.fit_transform(X_train)\n",
    "X_test_scaled = scaler.transform(X_test)\n",
    "model = Sequential()\n",
    "model.add(Dense(10, activation='relu', input_shape=(X_train_scaled.shape[1],)))\n",
    "model.add(Dense(44, activation='relu'))\n",
    "model.add(Dense(1))\n",
    "model.compile(optimizer='adam', loss='mean_squared_error')\n",
    "model.fit(X_train_scaled, y_train, epochs=100, batch_size=32, verbose=0)\n",
    "# Evaluate the model on the test data\n",
    "loss = model.evaluate(X_test_scaled, y_test)\n",
    "print(\"Mean Squared Error on Test Data:\", loss)"
   ]
  },
  {
   "cell_type": "markdown",
   "id": "1c7c5380-e8ed-44d4-aa06-0a478001d2c5",
   "metadata": {},
   "source": [
    "#### LAB TASK : 2\n",
    "<strong>Add more hidden layers.</strong>"
   ]
  },
  {
   "cell_type": "code",
   "execution_count": 14,
   "id": "b1c4a104-3f40-4f70-a27c-45e4544c6da5",
   "metadata": {},
   "outputs": [
    {
     "name": "stderr",
     "output_type": "stream",
     "text": [
      "C:\\Users\\MUHAM\\anaconda3\\Lib\\site-packages\\keras\\src\\layers\\core\\dense.py:85: UserWarning: Do not pass an `input_shape`/`input_dim` argument to a layer. When using Sequential models, prefer using an `Input(shape)` object as the first layer in the model instead.\n",
      "  super().__init__(activity_regularizer=activity_regularizer, **kwargs)\n"
     ]
    },
    {
     "name": "stdout",
     "output_type": "stream",
     "text": [
      "\u001b[1m4/4\u001b[0m \u001b[32m━━━━━━━━━━━━━━━━━━━━\u001b[0m\u001b[37m\u001b[0m \u001b[1m0s\u001b[0m 2ms/step - loss: 22.3693  \n",
      "Mean Squared Error on Test Data: 38.325294494628906\n"
     ]
    }
   ],
   "source": [
    "from tensorflow.keras.models import Sequential\n",
    "from tensorflow.keras.layers import Dense\n",
    "from tensorflow.keras.datasets import boston_housing\n",
    "from sklearn.model_selection import train_test_split\n",
    "from sklearn.preprocessing import StandardScaler\n",
    "\n",
    "(X_train, y_train), (X_test, y_test) = boston_housing.load_data()\n",
    "scaler = StandardScaler()\n",
    "X_train_scaled = scaler.fit_transform(X_train)\n",
    "X_test_scaled = scaler.transform(X_test)\n",
    "model = Sequential()\n",
    "model.add(Dense(10, activation='relu', input_shape=(X_train_scaled.shape[1],)))\n",
    "model.add(Dense(44, activation='relu'))\n",
    "#Added 1 more  Hidden Layer.\n",
    "model.add(Dense(22, activation='relu'))\n",
    "model.add(Dense(1))\n",
    "model.compile(optimizer='adam', loss='mean_squared_error')\n",
    "model.fit(X_train_scaled, y_train, epochs=100, batch_size=32, verbose=0)\n",
    "# Evaluate the model on the test data\n",
    "loss = model.evaluate(X_test_scaled, y_test)\n",
    "print(\"Mean Squared Error on Test Data:\", loss)"
   ]
  },
  {
   "cell_type": "markdown",
   "id": "bf64dc52-478f-4605-8190-878be2e4ea4c",
   "metadata": {},
   "source": [
    "#### LAB TASK : 3\n",
    "<strong>Increase number of epochs.</strong>"
   ]
  },
  {
   "cell_type": "code",
   "execution_count": 13,
   "id": "e597ec0c-1e4c-4ea3-8181-5b3a35780f0a",
   "metadata": {},
   "outputs": [
    {
     "name": "stderr",
     "output_type": "stream",
     "text": [
      "C:\\Users\\MUHAM\\anaconda3\\Lib\\site-packages\\keras\\src\\layers\\core\\dense.py:85: UserWarning: Do not pass an `input_shape`/`input_dim` argument to a layer. When using Sequential models, prefer using an `Input(shape)` object as the first layer in the model instead.\n",
      "  super().__init__(activity_regularizer=activity_regularizer, **kwargs)\n"
     ]
    },
    {
     "name": "stdout",
     "output_type": "stream",
     "text": [
      "\u001b[1m4/4\u001b[0m \u001b[32m━━━━━━━━━━━━━━━━━━━━\u001b[0m\u001b[37m\u001b[0m \u001b[1m0s\u001b[0m 1ms/step - loss: 28.7754 \n",
      "Mean Squared Error on Test Data: 34.22184753417969\n"
     ]
    }
   ],
   "source": [
    "from tensorflow.keras.models import Sequential\n",
    "from tensorflow.keras.layers import Dense\n",
    "from tensorflow.keras.datasets import boston_housing\n",
    "from sklearn.model_selection import train_test_split\n",
    "from sklearn.preprocessing import StandardScaler\n",
    "\n",
    "(X_train, y_train), (X_test, y_test) = boston_housing.load_data()\n",
    "scaler = StandardScaler()\n",
    "X_train_scaled = scaler.fit_transform(X_train)\n",
    "X_test_scaled = scaler.transform(X_test)\n",
    "model = Sequential()\n",
    "model.add(Dense(10, activation='relu', input_shape=(X_train_scaled.shape[1],)))\n",
    "model.add(Dense(1))\n",
    "model.compile(optimizer='adam', loss='mean_squared_error')\n",
    "# increased epochs from 100 to 150\n",
    "model.fit(X_train_scaled, y_train, epochs=150, batch_size=32, verbose=0)\n",
    "# Evaluate the model on the test data\n",
    "loss = model.evaluate(X_test_scaled, y_test)\n",
    "print(\"Mean Squared Error on Test Data:\", loss)"
   ]
  },
  {
   "cell_type": "markdown",
   "id": "6d4780cc-5570-4def-b8dd-cba2f543a8e3",
   "metadata": {},
   "source": [
    "#### LAB TASK : 4\n",
    "<strong>Change the dataset boston_housing to fetch_california_housing and results.</strong>"
   ]
  },
  {
   "cell_type": "code",
   "execution_count": 23,
   "id": "6dedd88a-8612-4d0d-9b18-72f0d7ace7b3",
   "metadata": {},
   "outputs": [
    {
     "name": "stderr",
     "output_type": "stream",
     "text": [
      "C:\\Users\\MUHAM\\anaconda3\\Lib\\site-packages\\keras\\src\\layers\\core\\dense.py:85: UserWarning: Do not pass an `input_shape`/`input_dim` argument to a layer. When using Sequential models, prefer using an `Input(shape)` object as the first layer in the model instead.\n",
      "  super().__init__(activity_regularizer=activity_regularizer, **kwargs)\n"
     ]
    },
    {
     "name": "stdout",
     "output_type": "stream",
     "text": [
      "\u001b[1m129/129\u001b[0m \u001b[32m━━━━━━━━━━━━━━━━━━━━\u001b[0m\u001b[37m\u001b[0m \u001b[1m0s\u001b[0m 647us/step - loss: 0.3332\n",
      "Mean Squared Error on Test Data: 0.3391590416431427\n"
     ]
    }
   ],
   "source": [
    "from tensorflow.keras.models import Sequential\n",
    "from tensorflow.keras.layers import Dense\n",
    "from sklearn.datasets import fetch_california_housing\n",
    "from sklearn.model_selection import train_test_split\n",
    "from sklearn.preprocessing import StandardScaler\n",
    "\n",
    "data = fetch_california_housing()\n",
    "\n",
    "# Extract features and target from the dataset\n",
    "X = data.data\n",
    "y = data.target\n",
    "\n",
    "X_train, X_test, y_train, y_test = train_test_split(X, y, test_size=0.2, random_state=42)\n",
    "scaler = StandardScaler()\n",
    "X_train_scaled = scaler.fit_transform(X_train)\n",
    "X_test_scaled = scaler.transform(X_test)\n",
    "model = Sequential()\n",
    "model.add(Dense(10, activation='relu', input_shape=(X_train_scaled.shape[1],)))\n",
    "model.add(Dense(1))\n",
    "model.compile(optimizer='adam', loss='mean_squared_error')\n",
    "model.fit(X_train_scaled, y_train, epochs=100, batch_size=32, verbose=0)\n",
    "# Evaluate the model on the test data\n",
    "loss = model.evaluate(X_test_scaled, y_test)\n",
    "print(\"Mean Squared Error on Test Data:\", loss)"
   ]
  }
 ],
 "metadata": {
  "kernelspec": {
   "display_name": "Python 3 (ipykernel)",
   "language": "python",
   "name": "python3"
  },
  "language_info": {
   "codemirror_mode": {
    "name": "ipython",
    "version": 3
   },
   "file_extension": ".py",
   "mimetype": "text/x-python",
   "name": "python",
   "nbconvert_exporter": "python",
   "pygments_lexer": "ipython3",
   "version": "3.11.7"
  }
 },
 "nbformat": 4,
 "nbformat_minor": 5
}
