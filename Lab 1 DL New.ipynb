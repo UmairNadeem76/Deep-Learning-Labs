{
 "cells": [
  {
   "cell_type": "code",
   "execution_count": 1,
   "id": "795df237",
   "metadata": {},
   "outputs": [],
   "source": [
    "#!pip install tensorflow"
   ]
  },
  {
   "cell_type": "code",
   "execution_count": 1,
   "id": "13277fd5",
   "metadata": {},
   "outputs": [
    {
     "name": "stdout",
     "output_type": "stream",
     "text": [
      "WARNING:tensorflow:From C:\\Users\\shahz\\anaconda3\\Lib\\site-packages\\keras\\src\\losses.py:2976: The name tf.losses.sparse_softmax_cross_entropy is deprecated. Please use tf.compat.v1.losses.sparse_softmax_cross_entropy instead.\n",
      "\n",
      "Original Tensor: [11. 13. 34.]\n",
      "Scalar Value: 4.0\n",
      "Result Tensor (After multiplying the tensor by the scalar): [ 44.  52. 136.]\n"
     ]
    }
   ],
   "source": [
    "#Lab Task 1\n",
    "import tensorflow as tf\n",
    "\n",
    "ts = tf.constant([11, 13, 34], dtype=tf.float32)\n",
    "sc = 4.0\n",
    "\n",
    "result_tensor = tf.multiply(ts, sc)\n",
    "\n",
    "print(\"Original Tensor:\", ts.numpy())\n",
    "print(\"Scalar Value:\", sc)\n",
    "print(\"Result Tensor (After multiplying the tensor by the scalar):\", result_tensor.numpy())"
   ]
  },
  {
   "cell_type": "code",
   "execution_count": 3,
   "id": "3bb302af",
   "metadata": {},
   "outputs": [
    {
     "name": "stdout",
     "output_type": "stream",
     "text": [
      "Vector 1: [6. 5. 4.]\n",
      "Vector 2: [3. 2. 1.]\n",
      "Dot Product: 32.0\n"
     ]
    }
   ],
   "source": [
    "#Lab Task 2\n",
    "import tensorflow as tf\n",
    "\n",
    "v1 = tf.constant([6.0, 5.0, 4.0], dtype=tf.float32)\n",
    "v2 = tf.constant([3.0, 2.0, 1.0], dtype=tf.float32)\n",
    "\n",
    "dot_product = tf.reduce_sum(tf.multiply(v1, v2))\n",
    "\n",
    "print(\"Vector 1:\", v1.numpy())\n",
    "print(\"Vector 2:\", v2.numpy())\n",
    "print(\"Dot Product:\", dot_product.numpy())"
   ]
  },
  {
   "cell_type": "code",
   "execution_count": 4,
   "id": "508f0af1",
   "metadata": {},
   "outputs": [
    {
     "name": "stdout",
     "output_type": "stream",
     "text": [
      "Addition:\n",
      " tf.Tensor(\n",
      "[[ 6.  8.]\n",
      " [10. 12.]], shape=(2, 2), dtype=float32)\n",
      "\n",
      "Element-wise Multiplication:\n",
      " tf.Tensor(\n",
      "[[ 5. 12.]\n",
      " [21. 32.]], shape=(2, 2), dtype=float32)\n",
      "\n",
      "Matrix Multiplication:\n",
      " tf.Tensor(\n",
      "[[19. 22.]\n",
      " [43. 50.]], shape=(2, 2), dtype=float32)\n"
     ]
    }
   ],
   "source": [
    "#Lab Task 3\n",
    "import tensorflow as tf\n",
    "\n",
    "matrix1 = tf.constant([[1, 2],\n",
    "                       [3, 4]], dtype=tf.float32)\n",
    "\n",
    "matrix2 = tf.constant([[5, 6],\n",
    "                       [7, 8]], dtype=tf.float32)\n",
    "\n",
    "addition = tf.add(matrix1, matrix2)\n",
    "print(\"Addition:\\n\", addition)\n",
    "\n",
    "elementwise_multiplication = tf.multiply(matrix1, matrix2)\n",
    "print(\"\\nElement-wise Multiplication:\\n\", elementwise_multiplication)\n",
    "\n",
    "matrix_multiplication = tf.matmul(matrix1, matrix2)\n",
    "print(\"\\nMatrix Multiplication:\\n\", matrix_multiplication)"
   ]
  },
  {
   "cell_type": "code",
   "execution_count": 5,
   "id": "f4d8719f",
   "metadata": {},
   "outputs": [
    {
     "name": "stdout",
     "output_type": "stream",
     "text": [
      "Vector:\n",
      " tf.Tensor([1. 2. 3. 4. 5.], shape=(5,), dtype=float32)\n",
      "\n",
      "Scalar:\n",
      " tf.Tensor(10.0, shape=(), dtype=float32)\n",
      "\n",
      "Matrix:\n",
      " tf.Tensor(\n",
      "[[1. 2. 3.]\n",
      " [4. 5. 6.]\n",
      " [7. 8. 9.]], shape=(3, 3), dtype=float32)\n",
      "\n",
      "Tensor:\n",
      " tf.Tensor(\n",
      "[[[ 1.  2.  3.]\n",
      "  [ 4.  5.  6.]]\n",
      "\n",
      " [[ 7.  8.  9.]\n",
      "  [10. 11. 12.]]], shape=(2, 2, 3), dtype=float32)\n"
     ]
    }
   ],
   "source": [
    "#Task 1\n",
    "import tensorflow as tf\n",
    "\n",
    "vector = tf.constant([1, 2, 3, 4, 5], dtype=tf.float32)\n",
    "print(\"Vector:\\n\", vector)\n",
    "\n",
    "scalar = tf.constant(10, dtype=tf.float32)\n",
    "print(\"\\nScalar:\\n\", scalar)\n",
    "\n",
    "matrix = tf.constant([[1, 2, 3],\n",
    "                      [4, 5, 6],\n",
    "                      [7, 8, 9]], dtype=tf.float32)\n",
    "print(\"\\nMatrix:\\n\", matrix)\n",
    "\n",
    "tensor = tf.constant([[[1, 2, 3],\n",
    "                      [4, 5, 6]],\n",
    "                     [[7, 8, 9],\n",
    "                      [10, 11, 12]]], dtype=tf.float32)\n",
    "print(\"\\nTensor:\\n\", tensor)"
   ]
  },
  {
   "cell_type": "code",
   "execution_count": 6,
   "id": "c3dc38ff",
   "metadata": {},
   "outputs": [
    {
     "name": "stdout",
     "output_type": "stream",
     "text": [
      "Vector:\n",
      "Shape: (5,)\n",
      "Rank: 1\n",
      "Size: 5\n",
      "\n",
      "Scalar:\n",
      "Shape: ()\n",
      "Rank: 0\n",
      "Size: 1.0\n",
      "\n",
      "Matrix:\n",
      "Shape: (3, 3)\n",
      "Rank: 2\n",
      "Size: 9\n",
      "\n",
      "Tensor:\n",
      "Shape: (2, 2, 3)\n",
      "Rank: 3\n",
      "Size: 12\n"
     ]
    }
   ],
   "source": [
    "#Task 2\n",
    "import tensorflow as tf\n",
    "import numpy as np\n",
    "\n",
    "vector = tf.constant([1, 2, 3, 4, 5], dtype=tf.float32)\n",
    "print(\"Vector:\")\n",
    "print(\"Shape:\", vector.shape)\n",
    "print(\"Rank:\", vector.shape.ndims)\n",
    "print(\"Size:\", np.prod(vector.shape))\n",
    "print()\n",
    "\n",
    "scalar = tf.constant(10, dtype=tf.float32)\n",
    "print(\"Scalar:\")\n",
    "print(\"Shape:\", scalar.shape)\n",
    "print(\"Rank:\", scalar.shape.ndims)\n",
    "print(\"Size:\", np.prod(scalar.shape))\n",
    "print()\n",
    "\n",
    "matrix = tf.constant([[1, 2, 3],\n",
    "                      [4, 5, 6],\n",
    "                      [7, 8, 9]], dtype=tf.float32)\n",
    "print(\"Matrix:\")\n",
    "print(\"Shape:\", matrix.shape)\n",
    "print(\"Rank:\", matrix.shape.ndims)\n",
    "print(\"Size:\", np.prod(matrix.shape))\n",
    "print()\n",
    "\n",
    "tensor = tf.constant([[[1, 2, 3],\n",
    "                      [4, 5, 6]],\n",
    "                     [[7, 8, 9],\n",
    "                      [10, 11, 12]]], dtype=tf.float32)\n",
    "print(\"Tensor:\")\n",
    "print(\"Shape:\", tensor.shape)\n",
    "print(\"Rank:\", tensor.shape.ndims)\n",
    "print(\"Size:\", np.prod(tensor.shape))"
   ]
  },
  {
   "cell_type": "code",
   "execution_count": 7,
   "id": "c5a4ecd4",
   "metadata": {},
   "outputs": [
    {
     "name": "stdout",
     "output_type": "stream",
     "text": [
      "Tensor 1:\n",
      "tf.Tensor(\n",
      "[[0.55486214 0.5962323  0.37235546 ... 0.00113392 0.80867565 0.2266823 ]\n",
      " [0.6761966  0.70991015 0.684031   ... 0.3447225  0.50948954 0.6630157 ]\n",
      " [0.01643836 0.7576051  0.14603996 ... 0.6845957  0.2561574  0.36367452]\n",
      " [0.3881414  0.40216768 0.44824827 ... 0.5983201  0.47606552 0.95391405]\n",
      " [0.7872249  0.88256586 0.91325223 ... 0.6683717  0.11647069 0.3165238 ]], shape=(5, 300), dtype=float32)\n",
      "\n",
      "Tensor 2:\n",
      "tf.Tensor(\n",
      "[[0.01279891 0.903075   0.85437405 ... 0.476125   0.7625191  0.8935026 ]\n",
      " [0.5722493  0.52521324 0.52072895 ... 0.8483621  0.53268456 0.48047054]\n",
      " [0.558187   0.26567972 0.12095737 ... 0.5688611  0.5759667  0.17822862]\n",
      " [0.19442236 0.01172757 0.12966621 ... 0.67863417 0.72501075 0.8164518 ]\n",
      " [0.4163772  0.32984424 0.15496051 ... 0.6105591  0.8522787  0.4770788 ]], shape=(5, 300), dtype=float32)\n"
     ]
    }
   ],
   "source": [
    "#Task 3\n",
    "import tensorflow as tf\n",
    "\n",
    "tensor1 = tf.random.uniform(shape=[5, 300], minval=0.0, maxval=1.0)\n",
    "tensor2 = tf.random.uniform(shape=[5, 300], minval=0.0, maxval=1.0)\n",
    "\n",
    "print(\"Tensor 1:\")\n",
    "print(tensor1)\n",
    "print(\"\\nTensor 2:\")\n",
    "print(tensor2)"
   ]
  },
  {
   "cell_type": "code",
   "execution_count": 18,
   "id": "d2d1088f",
   "metadata": {},
   "outputs": [
    {
     "name": "stdout",
     "output_type": "stream",
     "text": [
      "\n",
      "Tensor product:\n",
      "tf.Tensor(\n",
      "[[2.2308912  1.3677961  1.4474037  ... 1.3790394  1.0410373  1.0802085 ]\n",
      " [2.4171352  1.2616272  1.3795513  ... 1.3248119  1.2563986  1.2663528 ]\n",
      " [2.129981   1.343841   1.266767   ... 1.3175769  1.0204194  1.0299443 ]\n",
      " ...\n",
      " [1.8873376  1.0814601  1.5480609  ... 1.2678633  0.91526675 1.0029896 ]\n",
      " [2.020517   1.1448375  1.2047755  ... 1.1450894  0.91696143 0.9055192 ]\n",
      " [2.3413258  1.2578423  1.7492776  ... 1.485614   1.1355218  1.1602764 ]], shape=(300, 300), dtype=float32)\n"
     ]
    }
   ],
   "source": [
    "#Task 4\n",
    "import tensorflow as tf\n",
    "\n",
    "tensor1 = tf.random.uniform(shape=[5, 300], minval=0.0, maxval=1.0)\n",
    "tensor2 = tf.random.uniform(shape=[5, 300], minval=0.0, maxval=1.0)\n",
    "\n",
    "transposed_tensor1 = tf.transpose(tensor1)\n",
    "tensor_product = tf.matmul(transposed_tensor1, tensor2)\n",
    "\n",
    "print(\"\\nTensor product:\")\n",
    "print(tensor_product)"
   ]
  },
  {
   "cell_type": "code",
   "execution_count": 16,
   "id": "18f9ffe5",
   "metadata": {},
   "outputs": [
    {
     "name": "stdout",
     "output_type": "stream",
     "text": [
      "Tensor 1:\n",
      "tf.Tensor(\n",
      "[[0.2180568  0.14259338 0.8094151  ... 0.21682131 0.4069935  0.5942143 ]\n",
      " [0.68692577 0.55584896 0.3682772  ... 0.7300135  0.12563121 0.0029    ]\n",
      " [0.24717188 0.7433095  0.77224207 ... 0.88965726 0.54714036 0.39713204]\n",
      " [0.3637302  0.9977521  0.15951848 ... 0.37893057 0.698606   0.5690172 ]\n",
      " [0.68859136 0.81497216 0.59870183 ... 0.10842395 0.5095804  0.03489244]], shape=(5, 300), dtype=float32)\n",
      "\n",
      "Tensor 2:\n",
      "tf.Tensor(\n",
      "[[0.94543326 0.5857998  0.8013221  ... 0.85096943 0.5251337  0.588699  ]\n",
      " [0.85442543 0.02677095 0.8476422  ... 0.79381025 0.05244565 0.10607135]\n",
      " [0.62103605 0.51705515 0.82979083 ... 0.35775113 0.9253861  0.05458331]\n",
      " [0.1642245  0.35082734 0.04186845 ... 0.37283325 0.8487637  0.7019923 ]\n",
      " [0.28357136 0.00499618 0.9307879  ... 0.2773788  0.06997311 0.8223866 ]], shape=(5, 300), dtype=float32)\n",
      "\n",
      "Tensor product:\n",
      "tf.Tensor(\n",
      "[[74.95214  73.47029  74.92108  70.454544 75.5803  ]\n",
      " [75.898415 75.69577  77.69459  64.84041  72.41429 ]\n",
      " [69.43327  69.6732   72.28151  63.323753 73.03859 ]\n",
      " [74.397156 72.36044  73.85373  67.73111  71.84512 ]\n",
      " [74.796265 77.07111  77.888824 69.924644 76.274704]], shape=(5, 5), dtype=float32)\n"
     ]
    }
   ],
   "source": [
    "#Task 5\n",
    "import tensorflow as tf\n",
    "\n",
    "tensor1 = tf.random.uniform(shape=[5, 300], minval=0.0, maxval=1.0)\n",
    "tensor2 = tf.random.uniform(shape=[5, 300], minval=0.0, maxval=1.0)\n",
    "\n",
    "print(\"Tensor 1:\")\n",
    "print(tensor1)\n",
    "print(\"\\nTensor 2:\")\n",
    "print(tensor2)\n",
    "\n",
    "tensor_product = tf.tensordot(tensor1, tensor2, axes=[[1], [1]])\n",
    "\n",
    "print(\"\\nTensor product:\")\n",
    "print(tensor_product)"
   ]
  },
  {
   "cell_type": "code",
   "execution_count": 10,
   "id": "f29cf225",
   "metadata": {},
   "outputs": [
    {
     "name": "stdout",
     "output_type": "stream",
     "text": [
      "tf.Tensor(\n",
      "[[[[0.19183636 0.2490009  0.44788826]\n",
      "   [0.1002214  0.60826135 0.6038691 ]\n",
      "   [0.6306559  0.22678828 0.8485068 ]\n",
      "   ...\n",
      "   [0.95490754 0.32131112 0.44157863]\n",
      "   [0.29747224 0.8499948  0.21583176]\n",
      "   [0.41099715 0.2545656  0.61371064]]\n",
      "\n",
      "  [[0.329113   0.9079853  0.10361111]\n",
      "   [0.67687833 0.178298   0.87955225]\n",
      "   [0.3849944  0.9658308  0.1881274 ]\n",
      "   ...\n",
      "   [0.8362179  0.76185834 0.05525362]\n",
      "   [0.49318886 0.10305011 0.57071877]\n",
      "   [0.03721106 0.623219   0.39566183]]\n",
      "\n",
      "  [[0.99814737 0.15771627 0.6938069 ]\n",
      "   [0.6215985  0.47678447 0.6419848 ]\n",
      "   [0.11806631 0.3758093  0.5155016 ]\n",
      "   ...\n",
      "   [0.5897635  0.46749747 0.13738751]\n",
      "   [0.43654537 0.4006132  0.5648589 ]\n",
      "   [0.64682794 0.48689985 0.8676344 ]]\n",
      "\n",
      "  ...\n",
      "\n",
      "  [[0.8339852  0.66853356 0.67775893]\n",
      "   [0.9037516  0.6286489  0.3092965 ]\n",
      "   [0.6453204  0.6551058  0.80720115]\n",
      "   ...\n",
      "   [0.05426669 0.28056276 0.80645573]\n",
      "   [0.34367728 0.6754968  0.5107212 ]\n",
      "   [0.80254495 0.5349715  0.8793533 ]]\n",
      "\n",
      "  [[0.3589946  0.6789222  0.9895729 ]\n",
      "   [0.04069102 0.265828   0.79142594]\n",
      "   [0.44594502 0.06984019 0.02326572]\n",
      "   ...\n",
      "   [0.26684594 0.01768231 0.4181658 ]\n",
      "   [0.14742064 0.43119252 0.20254803]\n",
      "   [0.7426579  0.6568377  0.69172704]]\n",
      "\n",
      "  [[0.3708682  0.85371315 0.538396  ]\n",
      "   [0.20626962 0.07885766 0.82352626]\n",
      "   [0.94328415 0.42460132 0.33273757]\n",
      "   ...\n",
      "   [0.49087143 0.25589514 0.32128358]\n",
      "   [0.82308006 0.6248754  0.22654498]\n",
      "   [0.3060875  0.5988766  0.72119534]]]], shape=(1, 224, 224, 3), dtype=float32)\n"
     ]
    }
   ],
   "source": [
    "#Task 6\n",
    "import tensorflow as tf\n",
    "\n",
    "tensor = tf.keras.layers.Input(shape=(224, 224, 3))\n",
    "\n",
    "samples = tf.keras.backend.random_uniform(shape=(1, 224, 224, 3))\n",
    "\n",
    "print(samples)"
   ]
  },
  {
   "cell_type": "code",
   "execution_count": 11,
   "id": "c4e1d474",
   "metadata": {},
   "outputs": [
    {
     "name": "stdout",
     "output_type": "stream",
     "text": [
      "Minimum value: tf.Tensor(3.2186508e-06, shape=(), dtype=float32)\n",
      "Maximum value: tf.Tensor(0.9999994, shape=(), dtype=float32)\n"
     ]
    }
   ],
   "source": [
    "#Task 7\n",
    "import tensorflow as tf\n",
    "\n",
    "tensor = tf.random.uniform([224, 224, 3], minval=0, maxval=1)\n",
    "\n",
    "min_value = tf.reduce_min(tensor)\n",
    "max_value = tf.reduce_max(tensor)\n",
    "\n",
    "print(\"Minimum value:\", min_value)\n",
    "print(\"Maximum value:\", max_value)"
   ]
  },
  {
   "cell_type": "code",
   "execution_count": 12,
   "id": "163b6385",
   "metadata": {},
   "outputs": [
    {
     "name": "stdout",
     "output_type": "stream",
     "text": [
      "tf.Tensor(\n",
      "[[[0.30637705 0.36145115 0.95699096]\n",
      "  [0.12703824 0.9873766  0.582216  ]\n",
      "  [0.35517228 0.571144   0.3262279 ]\n",
      "  ...\n",
      "  [0.1915114  0.5196806  0.81011605]\n",
      "  [0.7056788  0.04129565 0.8264936 ]\n",
      "  [0.31408143 0.5588571  0.54674697]]\n",
      "\n",
      " [[0.78880894 0.6419593  0.21272361]\n",
      "  [0.319057   0.16524422 0.41569912]\n",
      "  [0.9823632  0.63690376 0.5648544 ]\n",
      "  ...\n",
      "  [0.6531632  0.50726545 0.6712805 ]\n",
      "  [0.0223887  0.13888192 0.16242433]\n",
      "  [0.2361058  0.17807639 0.04429805]]\n",
      "\n",
      " [[0.00876021 0.19529045 0.03864563]\n",
      "  [0.16778028 0.28900445 0.73879385]\n",
      "  [0.9364518  0.19778192 0.83775365]\n",
      "  ...\n",
      "  [0.55769885 0.29620087 0.6895791 ]\n",
      "  [0.04326427 0.43694663 0.47479296]\n",
      "  [0.640298   0.64067364 0.7407509 ]]\n",
      "\n",
      " ...\n",
      "\n",
      " [[0.46299314 0.60499275 0.44950545]\n",
      "  [0.8252766  0.5620477  0.7620443 ]\n",
      "  [0.01389873 0.1731981  0.5670079 ]\n",
      "  ...\n",
      "  [0.10574841 0.02483058 0.592765  ]\n",
      "  [0.3631785  0.54164517 0.69165814]\n",
      "  [0.78446424 0.72106755 0.80529165]]\n",
      "\n",
      " [[0.82240784 0.6698115  0.51716554]\n",
      "  [0.25513422 0.6978183  0.04897642]\n",
      "  [0.5369865  0.26919413 0.41378486]\n",
      "  ...\n",
      "  [0.15595627 0.54270434 0.9097085 ]\n",
      "  [0.87934506 0.08049059 0.75027037]\n",
      "  [0.21352136 0.03558624 0.05353439]]\n",
      "\n",
      " [[0.30686736 0.09470379 0.59179294]\n",
      "  [0.5731505  0.4090625  0.29780388]\n",
      "  [0.8166431  0.9057932  0.7595309 ]\n",
      "  ...\n",
      "  [0.51146746 0.702219   0.23591232]\n",
      "  [0.6875137  0.23862112 0.92141724]\n",
      "  [0.6263157  0.6272876  0.4196478 ]]], shape=(224, 224, 3), dtype=float32)\n"
     ]
    }
   ],
   "source": [
    "#Task 8\n",
    "import tensorflow as tf\n",
    "\n",
    "tensor = tf.random.uniform([1, 224, 224, 3], minval=0, maxval=1)\n",
    "\n",
    "squeezed_tensor = tf.squeeze(tensor, axis=0)\n",
    "\n",
    "print(squeezed_tensor)"
   ]
  },
  {
   "cell_type": "code",
   "execution_count": 10,
   "id": "4ebf6bd0",
   "metadata": {},
   "outputs": [
    {
     "name": "stdout",
     "output_type": "stream",
     "text": [
      "Maximum value: Tensor(\"Max_1:0\", shape=(), dtype=int32)\n",
      "Index of maximum value: 9\n"
     ]
    }
   ],
   "source": [
    "#Task 9\n",
    "import tensorflow as tf\n",
    "\n",
    "tensor = tf.constant([5,8,3,9,7,6,5,4,3,2])\n",
    "max_value_index=tf.reduce_max(tensor)\n",
    "sess = tf.compat.v1.Session()\n",
    "max_index = sess.run(max_value_index)\n",
    "\n",
    "print(\"Maximum value:\", tf.reduce_max(tensor))\n",
    "print(\"Index of maximum value:\", max_index)"
   ]
  },
  {
   "cell_type": "code",
   "execution_count": 11,
   "id": "e339b4a0",
   "metadata": {},
   "outputs": [
    {
     "name": "stdout",
     "output_type": "stream",
     "text": [
      "One-hot encoded tensor:\n",
      " [[0. 0. 0. 0. 0. 1. 0. 0. 0. 0.]\n",
      " [0. 0. 0. 0. 0. 0. 0. 0. 1. 0.]\n",
      " [0. 0. 0. 1. 0. 0. 0. 0. 0. 0.]\n",
      " [0. 0. 0. 0. 0. 0. 0. 0. 0. 1.]\n",
      " [0. 0. 0. 0. 0. 0. 0. 1. 0. 0.]\n",
      " [0. 0. 0. 0. 0. 0. 1. 0. 0. 0.]\n",
      " [0. 0. 0. 0. 0. 1. 0. 0. 0. 0.]\n",
      " [0. 0. 0. 0. 1. 0. 0. 0. 0. 0.]\n",
      " [0. 0. 0. 1. 0. 0. 0. 0. 0. 0.]\n",
      " [0. 0. 1. 0. 0. 0. 0. 0. 0. 0.]]\n"
     ]
    }
   ],
   "source": [
    "#Task 10\n",
    "max_value = tf.reduce_max(tensor)\n",
    "tf.compat.v1.disable_eager_execution()\n",
    "sess = tf.compat.v1.Session()\n",
    "one_hot_encoded = tf.one_hot(tensor, depth=max_value+1)\n",
    "one_hot_encoded_result = sess.run(one_hot_encoded)\n",
    "print(\"One-hot encoded tensor:\\n\",one_hot_encoded_result)"
   ]
  }
 ],
 "metadata": {
  "kernelspec": {
   "display_name": "Python 3 (ipykernel)",
   "language": "python",
   "name": "python3"
  },
  "language_info": {
   "codemirror_mode": {
    "name": "ipython",
    "version": 3
   },
   "file_extension": ".py",
   "mimetype": "text/x-python",
   "name": "python",
   "nbconvert_exporter": "python",
   "pygments_lexer": "ipython3",
   "version": "3.11.5"
  }
 },
 "nbformat": 4,
 "nbformat_minor": 5
}
